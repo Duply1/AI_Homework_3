{
 "cells": [
  {
   "cell_type": "code",
   "execution_count": 2,
   "id": "ea0d0f51",
   "metadata": {},
   "outputs": [],
   "source": [
    "import pandas as pd "
   ]
  },
  {
   "cell_type": "code",
   "execution_count": 3,
   "id": "1357ae1f",
   "metadata": {},
   "outputs": [],
   "source": [
    "from matplotlib import pyplot as plt "
   ]
  },
  {
   "cell_type": "code",
   "execution_count": 7,
   "id": "fa5c21f9",
   "metadata": {},
   "outputs": [],
   "source": [
    "import numpy as np\n",
    "from sklearn.decomposition import PCA"
   ]
  },
  {
   "cell_type": "code",
   "execution_count": 5,
   "id": "bb2dc353",
   "metadata": {},
   "outputs": [],
   "source": [
    "class K_means:\n",
    "    def __init__(self, k , tolerance = 0.0001, max_iterations = 500):\n",
    "        self.k = k\n",
    "        self.tolerance = tolerance \n",
    "        self.max_iterations = max_iterations\n",
    "    def fit(self, data):\n",
    "        self.centers = {}\n",
    "        for i in range(self.k):\n",
    "            self.centers[i] = data[i]\n",
    "        \n",
    "        for i in range(self.max_iterations):\n",
    "            self.classs = {}\n",
    "            for i in range(self.k):\n",
    "                self.classs[i] = []\n",
    "            for features in data:\n",
    "                dist = [np.linalg.norm(features - self.centers[center]) for center in self.centers]\n",
    "                classification = dist.index(min(dist))\n",
    "                self.classs[classification].append(features)\n",
    "            \n",
    "            perv = dict(self.centers)\n",
    "            \n",
    "            for classification in self.classs:\n",
    "                self.centers[classification] = np.average(self.classs[classification], axis=0)\n",
    "            \n",
    "            optimal = True\n",
    "            \n",
    "            for centers in self.centers:\n",
    "                orig_center = prev[centers]\n",
    "                curr = self.centers[center]\n",
    "                if np.sum((curr - orig_center)/orig_center * 100) . self.tolerance:\n",
    "                    optimal = False\n",
    "            \n",
    "            if optimal:\n",
    "                break\n",
    "            \n",
    "    def  predict(self, data):\n",
    "        dist = [np.linalg.norm(data-self.centers[center]) for center in self.centers]\n",
    "        classification = dist.index(min(dist))\n",
    "        return classification"
   ]
  },
  {
   "cell_type": "code",
   "execution_count": 6,
   "id": "b9478c65",
   "metadata": {},
   "outputs": [],
   "source": [
    "df = pd.read_csv(\"cluster_data.txt\",sep = '\\t',header=None, names=['X1', 'Y1'],engine='python')"
   ]
  },
  {
   "cell_type": "code",
   "execution_count": 19,
   "id": "2b3e2fe5",
   "metadata": {},
   "outputs": [],
   "source": [
    "pca = PCA(2)\n",
    "df = pca.fit_transform(df)\n",
    "label = K_means(df,10,1000)"
   ]
  },
  {
   "cell_type": "code",
   "execution_count": 20,
   "id": "197e0ad4",
   "metadata": {},
   "outputs": [
    {
     "data": {
      "text/plain": [
       "array([[-2.04422045,  0.00591389],\n",
       "       [-1.9439893 ,  0.10568221],\n",
       "       [-1.84375815,  0.20545052],\n",
       "       ...,\n",
       "       [ 0.46953642, -0.37645436],\n",
       "       [ 1.69472003,  0.16946083],\n",
       "       [ 0.41107153, -0.03712316]])"
      ]
     },
     "execution_count": 20,
     "metadata": {},
     "output_type": "execute_result"
    }
   ],
   "source": [
    "df\n",
    "\n"
   ]
  },
  {
   "cell_type": "code",
   "execution_count": 21,
   "id": "9fe704c3",
   "metadata": {},
   "outputs": [
    {
     "data": {
      "image/png": "[encoded data removed]",
      "text/plain": [
       "<Figure size 432x288 with 1 Axes>"
      ]
     },
     "metadata": {
      "needs_background": "light"
     },
     "output_type": "display_data"
    }
   ],
   "source": [
    "u_labels = np.unique(label)\n",
    "for i in u_labels:\n",
    "    plt.scatter(df[label == i, 0], df[label == i,1], label = i)\n",
    "plt.legend()\n",
    "plt.xlabel(\"Lenght\")\n",
    "plt.ylabel(\"Width\")\n",
    "plt.show()"
   ]
  },
  {
   "cell_type": "code",
   "execution_count": null,
   "id": "fcba9c9a",
   "metadata": {},
   "outputs": [],
   "source": []
  },
  {
   "cell_type": "code",
   "execution_count": null,
   "id": "0f6fc3e7",
   "metadata": {},
   "outputs": [],
   "source": [
    "\n"
   ]
  },
  {
   "cell_type": "code",
   "execution_count": null,
   "id": "80d0a494",
   "metadata": {},
   "outputs": [],
   "source": []
  },
  {
   "cell_type": "code",
   "execution_count": null,
   "id": "61b05e9f",
   "metadata": {},
   "outputs": [],
   "source": []
  },
  {
   "cell_type": "code",
   "execution_count": null,
   "id": "a82ae4e1",
   "metadata": {},
   "outputs": [],
   "source": []
  },
  {
   "cell_type": "code",
   "execution_count": null,
   "id": "c25622c7",
   "metadata": {},
   "outputs": [],
   "source": []
  },
  {
   "cell_type": "code",
   "execution_count": null,
   "id": "14c7dd76",
   "metadata": {},
   "outputs": [],
   "source": []
  }
 ],
 "metadata": {
  "kernelspec": {
   "display_name": "Python 3 (ipykernel)",
   "language": "python",
   "name": "python3"
  },
  "language_info": {
   "codemirror_mode": {
    "name": "ipython",
    "version": 3
   },
   "file_extension": ".py",
   "mimetype": "text/x-python",
   "name": "python",
   "nbconvert_exporter": "python",
   "pygments_lexer": "ipython3",
   "version": "3.8.12"
  }
 },
 "nbformat": 4,
 "nbformat_minor": 5
}
