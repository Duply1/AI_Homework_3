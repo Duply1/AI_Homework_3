{
 "cells": [
  {
   "cell_type": "code",
   "execution_count": 1,
   "id": "0392ab7c",
   "metadata": {},
   "outputs": [],
   "source": [
    "import numpy as np\n",
    "import pandas as pd\n",
    "import matplotlib.pyplot as plt"
   ]
  },
  {
   "cell_type": "code",
   "execution_count": 2,
   "id": "ca407ea5",
   "metadata": {},
   "outputs": [],
   "source": [
    "class LogisticRegression(object):\n",
    "    def __init__(self, learn_rate = 0.1, max_iterations = 500, regular='12', C = 0.1, tolerance = 1e-4):\n",
    "        self.learn_rate = learn_rate\n",
    "        self.max_iterations = max_iterations\n",
    "        self.regular = regular\n",
    "        self.tolerance = tolerance\n",
    "        self.C = C\n",
    "    \n",
    "    def fit(self,X,y):\n",
    "        self.theta = np.zeros(X.shape[1] + 1)\n",
    "        X = np. concatenate((np.ones((X.shape[0], 1)), X), axis =1)\n",
    "        \n",
    "        for _ in range(self.max_iterations):\n",
    "            y_hat = self.__sigmoid(X @ self.theta)\n",
    "            errors = y- y_hat\n",
    "            N = X.shape[1]\n",
    "            \n",
    "            if self.regular is not None:\n",
    "                delta_grad = self.learn_rate * ((self.C * (X.T @errors)) + np.sum(self.theta))\n",
    "            else:\n",
    "                delta_grad = self.learning_rate * (X.T @ errors)\n",
    "                \n",
    "            if np.all(abs(delta_grad) >= self.tolerance):\n",
    "                self.theta -= delta_grad/N\n",
    "            else:\n",
    "                break\n",
    "        \n",
    "        return self\n",
    "        \n",
    "    def predict_probability(self, X):\n",
    "        return self.__sigmod((X @ self.theta[1:]) + self.theta[0])\n",
    "    \n",
    "    def predict(self, X):\n",
    "        return np.round(self.predict_probablity(X))\n",
    "    \n",
    "    def __sigmod(self, z):\n",
    "        return 1 / (1 + expit(-z))\n",
    "    "
   ]
  },
  {
   "cell_type": "code",
   "execution_count": null,
   "id": "3ed0cecb",
   "metadata": {},
   "outputs": [],
   "source": []
  }
 ],
 "metadata": {
  "kernelspec": {
   "display_name": "Python 3 (ipykernel)",
   "language": "python",
   "name": "python3"
  },
  "language_info": {
   "codemirror_mode": {
    "name": "ipython",
    "version": 3
   },
   "file_extension": ".py",
   "mimetype": "text/x-python",
   "name": "python",
   "nbconvert_exporter": "python",
   "pygments_lexer": "ipython3",
   "version": "3.8.12"
  }
 },
 "nbformat": 4,
 "nbformat_minor": 5
}
